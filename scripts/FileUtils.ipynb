{
 "cells": [
  {
   "cell_type": "code",
   "execution_count": 7,
   "id": "0ba50837",
   "metadata": {},
   "outputs": [],
   "source": [
    "\"\"\"\n",
    "Author: R\n",
    "\"\"\"\n",
    "import pandas as pd\n",
    "import os\n",
    "import re\n",
    "import shutil"
   ]
  },
  {
   "cell_type": "code",
   "execution_count": 8,
   "id": "38c9b288",
   "metadata": {},
   "outputs": [],
   "source": [
    "base_path = \"../raw/data_drop_date=20210526\""
   ]
  },
  {
   "cell_type": "code",
   "execution_count": 9,
   "id": "4b0fbb8b",
   "metadata": {},
   "outputs": [
    {
     "name": "stdout",
     "output_type": "stream",
     "text": [
      "['01 READ ME FIRST (05_26)']\n"
     ]
    }
   ],
   "source": [
    "files = os.listdir(base_path)\n",
    "\n",
    "search01 = '(DOH COVID Data Drop_[ 0-9\\-]+)'\n",
    "search02 = '(01 READ ME FIRST[ 0-9\\)\\(\\_]+)'\n",
    "search03 = '(DOH Data Drop[ 0-9\\-]+Changelog)'\n",
    "search04 = '(DOH Data Collect)'\n",
    "\n",
    "for f in files:\n",
    "    ff = re.findall(search01,f)\n",
    "    if(len(ff)>0):\n",
    "        os.rename(base_path+\"/\"+f, base_path+\"/\"+re.sub(search01, '', f)) \n",
    "    elif(len(ff)==0):\n",
    "        ff = re.findall(search02,f)\n",
    "        if(len(ff)>0):\n",
    "            print(ff)\n",
    "            rep = re.sub(search02, 'Policy and Confidentiality Statement w Tech Notes',f)\n",
    "            os.rename(f\"{base_path}/{ff[0]}.pdf\", f\"{base_path}/{rep}\")\n",
    "            \n",
    "files = os.listdir(base_path)\n",
    "for f in files:\n",
    "    ff = re.findall(search03,f)\n",
    "    if(len(ff)>0):\n",
    "        rep = re.sub(search03, 'Case Info Changelog',f)\n",
    "        os.rename(f\"{base_path}/{ff[0]}.xlsx\", f\"{base_path}/{rep}\")\n",
    "        \n",
    "others = ['DOH Data Collect - Daily Report.csv', 'DOH Data Collect - Weekly Report.csv']\n",
    "\n",
    "for i in others:\n",
    "    rep = re.sub(search04, 'Data Collect',i)\n",
    "    os.rename(f\"{base_path}/{i}\", f\"{base_path}/{rep}\")"
   ]
  },
  {
   "cell_type": "code",
   "execution_count": 10,
   "id": "fd127ed4",
   "metadata": {},
   "outputs": [
    {
     "data": {
      "text/plain": [
       "['Data Collect - Daily Report.csv',\n",
       " 'Testing Aggregates.csv',\n",
       " 'Policy and Confidentiality Statement w Tech Notes.pdf',\n",
       " 'Metadata - Sheets.csv',\n",
       " 'Case Information 2020.csv',\n",
       " 'Metadata - Fields.csv',\n",
       " 'Quarantine Facility Data - Weekly Report.csv',\n",
       " 'DOH Data Collect v4 - Baseline.csv',\n",
       " 'Data Collect - Weekly Report.csv',\n",
       " 'Case Information.csv',\n",
       " 'Case Info Changelog.xlsx',\n",
       " 'Quarantine Facility Data - Daily Report 2021.csv',\n",
       " 'Case Information 2021.csv',\n",
       " 'Quarantine Facility Data - Daily Report.csv',\n",
       " 'DOH Data Collect v3 - Baseline.csv',\n",
       " 'Quarantine Facility Data - Daily Report 2020.csv',\n",
       " 'DDC TTMF Tracker v1 - Baseline.csv']"
      ]
     },
     "execution_count": 10,
     "metadata": {},
     "output_type": "execute_result"
    }
   ],
   "source": [
    "files_renamed = os.listdir(base_path)\n",
    "files_renamed "
   ]
  },
  {
   "cell_type": "code",
   "execution_count": 15,
   "id": "e125880e",
   "metadata": {},
   "outputs": [
    {
     "data": {
      "text/plain": [
       "'../data'"
      ]
     },
     "execution_count": 15,
     "metadata": {},
     "output_type": "execute_result"
    }
   ],
   "source": [
    "repo_path = \"../data\"\n",
    "shutil.copytree(base_path, repo_path, dirs_exist_ok=True)"
   ]
  },
  {
   "cell_type": "code",
   "execution_count": 16,
   "id": "bac99f90",
   "metadata": {},
   "outputs": [],
   "source": [
    "files_to_remove = ['Case Information 2020.csv','Case Information 2021.csv',\\\n",
    "                  'Quarantine Facility Data - Daily Report 2020.csv', \\\n",
    "                   'Quarantine Facility Data - Daily Report 2021.csv']\n",
    "\n",
    "for f in files_to_remove:\n",
    "    os.remove(f\"{repo_path}/{f}\")"
   ]
  },
  {
   "cell_type": "code",
   "execution_count": null,
   "id": "a1250a25",
   "metadata": {},
   "outputs": [],
   "source": []
  }
 ],
 "metadata": {
  "kernelspec": {
   "display_name": "Python 3",
   "language": "python",
   "name": "python3"
  },
  "language_info": {
   "codemirror_mode": {
    "name": "ipython",
    "version": 3
   },
   "file_extension": ".py",
   "mimetype": "text/x-python",
   "name": "python",
   "nbconvert_exporter": "python",
   "pygments_lexer": "ipython3",
   "version": "3.8.8"
  }
 },
 "nbformat": 4,
 "nbformat_minor": 5
}
