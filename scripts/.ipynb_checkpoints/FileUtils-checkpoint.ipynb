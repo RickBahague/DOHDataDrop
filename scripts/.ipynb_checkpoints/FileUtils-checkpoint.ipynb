{
 "cells": [
  {
   "cell_type": "code",
   "execution_count": 108,
   "id": "0ba50837",
   "metadata": {},
   "outputs": [],
   "source": [
    "import pandas as pd\n",
    "import os\n",
    "import re"
   ]
  },
  {
   "cell_type": "code",
   "execution_count": 112,
   "id": "38c9b288",
   "metadata": {},
   "outputs": [],
   "source": [
    "base_path = \"./raw/data_drop_date=20210526\""
   ]
  },
  {
   "cell_type": "code",
   "execution_count": 125,
   "id": "4b0fbb8b",
   "metadata": {},
   "outputs": [],
   "source": [
    "files = os.listdir(base_path)\n",
    "\n",
    "search01 = '(DOH COVID Data Drop_[ 0-9\\-]+)'\n",
    "search02 = '(01 READ ME FIRST[ 0-9\\)\\(\\_]+)'\n",
    "search03 = '(DOH Data Drop[ 0-9\\-]+Changelog)'\n",
    "search04 = '(DOH Data Collect)'\n",
    "\n",
    "for f in files:\n",
    "    ff = re.findall(search01,f)\n",
    "    if(len(ff)>0):\n",
    "        os.rename(base_path+\"/\"+f, base_path+\"/\"+re.sub(search01, '', f)) \n",
    "    elif(len(ff)==0):\n",
    "        ff = re.findall(search02,f)\n",
    "        if(len(ff)>0):\n",
    "            print(ff)\n",
    "            rep = re.sub(search02, 'Policy and Confidentiality Statement w Tech Notes',f)\n",
    "            os.rename(f\"{base_path}/{ff[0]}.pdf\", f\"{base_path}/{rep}\")\n",
    "            \n",
    "files = os.listdir(base_path)\n",
    "for f in files:\n",
    "    ff = re.findall(search03,f)\n",
    "    if(len(ff)>0):\n",
    "        rep = re.sub(search03, 'Case Info Changelog',f)\n",
    "        os.rename(f\"{base_path}/{ff[0]}.xlsx\", f\"{base_path}/{rep}\")\n",
    "        \n",
    "others = ['DOH Data Collect - Daily Report.csv', 'DOH Data Collect - Weekly Report.csv']\n",
    "\n",
    "for i in others:\n",
    "    rep = re.sub(search04, 'Data Collect',i)\n",
    "    os.rename(f\"{base_path}/{i}\", f\"{base_path}/{rep}\")"
   ]
  },
  {
   "cell_type": "code",
   "execution_count": 114,
   "id": "fd127ed4",
   "metadata": {},
   "outputs": [
    {
     "data": {
      "text/plain": [
       "['Testing Aggregates.csv',\n",
       " 'Policy and Confidentiality Statement w Tech Notes.pdf',\n",
       " 'Metadata - Sheets.csv',\n",
       " 'Case Information 2020.csv',\n",
       " 'Metadata - Fields.csv',\n",
       " 'Quarantine Facility Data - Weekly Report.csv',\n",
       " 'DOH Data Collect v4 - Baseline.csv',\n",
       " 'Case Information.csv',\n",
       " 'DOH Data Collect - Daily Report.csv',\n",
       " 'Case Info Changelog.xlsx',\n",
       " 'Quarantine Facility Data - Daily Report 2021.csv',\n",
       " 'Case Information 2021.csv',\n",
       " 'Quarantine Facility Data - Daily Report.csv',\n",
       " 'DOH Data Collect - Weekly Report.csv',\n",
       " 'DOH Data Collect v3 - Baseline.csv',\n",
       " 'Quarantine Facility Data - Daily Report 2020.csv',\n",
       " 'DDC TTMF Tracker v1 - Baseline.csv']"
      ]
     },
     "execution_count": 114,
     "metadata": {},
     "output_type": "execute_result"
    }
   ],
   "source": [
    "os.listdir(base_path)"
   ]
  },
  {
   "cell_type": "code",
   "execution_count": 126,
   "id": "bac99f90",
   "metadata": {},
   "outputs": [],
   "source": [
    "repo_path = \"./DOHDataDrop\"\n",
    "\n",
    "files_to_remove = ['Case Information 2020.csv','Case Information 2021.csv',\\\n",
    "                  'Quarantine Facility Data - Daily Report 2020.csv', \\\n",
    "                   'Quarantine Facility Data - Daily Report 2021.csv']\n",
    "\n",
    "for f in files_to_remove:\n",
    "    os.remove(f\"{repo_path}/{f}\")"
   ]
  },
  {
   "cell_type": "code",
   "execution_count": 23,
   "id": "7504d2aa",
   "metadata": {},
   "outputs": [
    {
     "name": "stderr",
     "output_type": "stream",
     "text": [
      "/home/vvuser/anaconda3/lib/python3.8/site-packages/IPython/core/interactiveshell.py:3165: DtypeWarning: Columns (10) have mixed types.Specify dtype option on import or set low_memory=False.\n",
      "  has_raised = await self.run_ast_nodes(code_ast.body, cell_name,\n"
     ]
    }
   ],
   "source": [
    "case_info = pd.read_csv(base_path+\"/Case Information.csv\")\n",
    "case_info_2021 = pd.read_csv(base_path+\"/Case Information 2021.csv\")\n",
    "case_info_2020 = pd.read_csv(base_path+\"/Case Information 2020.csv\")"
   ]
  },
  {
   "cell_type": "code",
   "execution_count": 24,
   "id": "3fa27a2b",
   "metadata": {},
   "outputs": [
    {
     "data": {
      "text/plain": [
       "Index(['CaseCode', 'Age', 'AgeGroup', 'Sex', 'DateSpecimen',\n",
       "       'DateResultRelease', 'DateRepConf', 'DateDied', 'DateRecover',\n",
       "       'RemovalType', 'Admitted', 'RegionRes', 'ProvRes', 'CityMunRes',\n",
       "       'CityMuniPSGC', 'BarangayRes', 'BarangayPSGC', 'HealthStatus',\n",
       "       'Quarantined', 'DateOnset', 'Pregnanttab', 'ValidationStatus'],\n",
       "      dtype='object')"
      ]
     },
     "execution_count": 24,
     "metadata": {},
     "output_type": "execute_result"
    }
   ],
   "source": [
    "case_info.columns"
   ]
  },
  {
   "cell_type": "code",
   "execution_count": 25,
   "id": "2a598d51",
   "metadata": {},
   "outputs": [
    {
     "data": {
      "text/plain": [
       "'2021-05-25'"
      ]
     },
     "execution_count": 25,
     "metadata": {},
     "output_type": "execute_result"
    }
   ],
   "source": [
    "case_info['DateRepConf'].max()"
   ]
  },
  {
   "cell_type": "code",
   "execution_count": 15,
   "id": "b1930021",
   "metadata": {},
   "outputs": [],
   "source": [
    "case_info['DateRepConf'] = pd.to_datetime(case_info['DateRepConf'])"
   ]
  },
  {
   "cell_type": "code",
   "execution_count": 17,
   "id": "04fd63c2",
   "metadata": {},
   "outputs": [],
   "source": [
    "case_info.set_index(\"DateRepConf\",inplace=True)"
   ]
  },
  {
   "cell_type": "code",
   "execution_count": 19,
   "id": "63bdd201",
   "metadata": {},
   "outputs": [
    {
     "data": {
      "text/html": [
       "<div>\n",
       "<style scoped>\n",
       "    .dataframe tbody tr th:only-of-type {\n",
       "        vertical-align: middle;\n",
       "    }\n",
       "\n",
       "    .dataframe tbody tr th {\n",
       "        vertical-align: top;\n",
       "    }\n",
       "\n",
       "    .dataframe thead th {\n",
       "        text-align: right;\n",
       "    }\n",
       "</style>\n",
       "<table border=\"1\" class=\"dataframe\">\n",
       "  <thead>\n",
       "    <tr style=\"text-align: right;\">\n",
       "      <th></th>\n",
       "      <th>CaseCode</th>\n",
       "    </tr>\n",
       "    <tr>\n",
       "      <th>DateRepConf</th>\n",
       "      <th></th>\n",
       "    </tr>\n",
       "  </thead>\n",
       "  <tbody>\n",
       "    <tr>\n",
       "      <th>2020-01-30</th>\n",
       "      <td>1</td>\n",
       "    </tr>\n",
       "    <tr>\n",
       "      <th>2020-01-31</th>\n",
       "      <td>0</td>\n",
       "    </tr>\n",
       "    <tr>\n",
       "      <th>2020-02-01</th>\n",
       "      <td>0</td>\n",
       "    </tr>\n",
       "    <tr>\n",
       "      <th>2020-02-02</th>\n",
       "      <td>0</td>\n",
       "    </tr>\n",
       "    <tr>\n",
       "      <th>2020-02-03</th>\n",
       "      <td>1</td>\n",
       "    </tr>\n",
       "    <tr>\n",
       "      <th>...</th>\n",
       "      <td>...</td>\n",
       "    </tr>\n",
       "    <tr>\n",
       "      <th>2021-05-21</th>\n",
       "      <td>6257</td>\n",
       "    </tr>\n",
       "    <tr>\n",
       "      <th>2021-05-22</th>\n",
       "      <td>6830</td>\n",
       "    </tr>\n",
       "    <tr>\n",
       "      <th>2021-05-23</th>\n",
       "      <td>3083</td>\n",
       "    </tr>\n",
       "    <tr>\n",
       "      <th>2021-05-24</th>\n",
       "      <td>4972</td>\n",
       "    </tr>\n",
       "    <tr>\n",
       "      <th>2021-05-25</th>\n",
       "      <td>3972</td>\n",
       "    </tr>\n",
       "  </tbody>\n",
       "</table>\n",
       "<p>482 rows × 1 columns</p>\n",
       "</div>"
      ],
      "text/plain": [
       "             CaseCode\n",
       "DateRepConf          \n",
       "2020-01-30          1\n",
       "2020-01-31          0\n",
       "2020-02-01          0\n",
       "2020-02-02          0\n",
       "2020-02-03          1\n",
       "...               ...\n",
       "2021-05-21       6257\n",
       "2021-05-22       6830\n",
       "2021-05-23       3083\n",
       "2021-05-24       4972\n",
       "2021-05-25       3972\n",
       "\n",
       "[482 rows x 1 columns]"
      ]
     },
     "execution_count": 19,
     "metadata": {},
     "output_type": "execute_result"
    }
   ],
   "source": [
    "case_info[['CaseCode']].resample(\"D\").count()"
   ]
  }
 ],
 "metadata": {
  "kernelspec": {
   "display_name": "Python 3",
   "language": "python",
   "name": "python3"
  },
  "language_info": {
   "codemirror_mode": {
    "name": "ipython",
    "version": 3
   },
   "file_extension": ".py",
   "mimetype": "text/x-python",
   "name": "python",
   "nbconvert_exporter": "python",
   "pygments_lexer": "ipython3",
   "version": "3.8.8"
  }
 },
 "nbformat": 4,
 "nbformat_minor": 5
}
